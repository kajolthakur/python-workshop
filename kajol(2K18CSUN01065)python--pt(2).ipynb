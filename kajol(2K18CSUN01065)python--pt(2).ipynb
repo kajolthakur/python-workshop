{
 "cells": [
  {
   "cell_type": "markdown",
   "metadata": {},
   "source": [
    "## PYTHON (PT-2)"
   ]
  },
  {
   "cell_type": "markdown",
   "metadata": {},
   "source": [
    "## VIVA QUESTIONS"
   ]
  },
  {
   "cell_type": "code",
   "execution_count": 2,
   "metadata": {},
   "outputs": [
    {
     "name": "stdout",
     "output_type": "stream",
     "text": [
      "RAMISGOODBOY\n"
     ]
    }
   ],
   "source": [
    "#VIVA QUESTION\n",
    "#ANS-1\n",
    "#(A). It will print the value of for range 0 to 4.\n",
    "# Output:- 1,2,3,4\n",
    "#(B). It will print all the values of I present in the list.\n",
    "# Output:- 1,2,3,4,5,6\n",
    "#ANS-2\n",
    "#OUTPUT WILL BE: abcdefghij\n",
    "#ANS-3\n",
    "#Iterate through the list and keep adding the element for every index in some empty string.\n",
    "##  \n",
    "def listToString(s): \n",
    "    str1 = \"\"     \n",
    "    for ele in s:  \n",
    "        str1 += ele      \n",
    "    return str1  \n",
    "s = ['RAM', 'IS', 'GOOD','BOY'] \n",
    "print(listToString(s)) "
   ]
  },
  {
   "cell_type": "markdown",
   "metadata": {},
   "source": [
    "## PROGRAMMING QUESTION\n",
    "Q2 Create a dictionary as follows:\n",
    "Semester4={\n",
    "‘student_name’=[“abc”, “xyz”, “def”]\n",
    "experiment_items=[“test_tube”, “chemical”, “stirrer”, “water”]\n",
    "num_of_items=[10,10,5,50]\n",
    "a)\tUsing a loop on key element print all the values for all the keys \n",
    "b)\tAdd a new key as “ faculty_assigned” and add any 4 faculty name as values in the form of list\n",
    "c)\tSort the list under the key “experiment_items”\n",
    "d)\tAdd 4 in all the values under the key “num_of_items\n",
    "e)\tPrint all the second values for all the keys using slicing in a loop ( i.e. xyz, stirrer… and so on)\n"
   ]
  },
  {
   "cell_type": "markdown",
   "metadata": {},
   "source": [
    "## creating a blank dictonary"
   ]
  },
  {
   "cell_type": "code",
   "execution_count": 4,
   "metadata": {},
   "outputs": [],
   "source": [
    "semester4 = {} \n"
   ]
  },
  {
   "cell_type": "markdown",
   "metadata": {},
   "source": [
    "## adding the value to the dictonary"
   ]
  },
  {
   "cell_type": "code",
   "execution_count": 5,
   "metadata": {},
   "outputs": [],
   "source": [
    "semester4[\"student_name\"] = [\"abc\",\"xyz\",\"def\"] \n",
    "semester4[\"expirement_items\"] = [\"test_tube\", \"chemical\", \"stirrer\",\"water\"]\n",
    "semester4[\"num_of_items\"]=[10,10,5,50]\n"
   ]
  },
  {
   "cell_type": "markdown",
   "metadata": {},
   "source": [
    "##  printing the values of the dictonary\n"
   ]
  },
  {
   "cell_type": "code",
   "execution_count": 6,
   "metadata": {},
   "outputs": [
    {
     "name": "stdout",
     "output_type": "stream",
     "text": [
      "['abc', 'xyz', 'def']\n",
      "['test_tube', 'chemical', 'stirrer', 'water']\n",
      "[10, 10, 5, 50]\n"
     ]
    }
   ],
   "source": [
    "for val in semester4.values(): \n",
    "        print(val) \n"
   ]
  },
  {
   "cell_type": "markdown",
   "metadata": {},
   "source": [
    "## adding the faculty_assigned as key and a,b,c,d as a value to the existing dictonary semester4\n"
   ]
  },
  {
   "cell_type": "code",
   "execution_count": 7,
   "metadata": {},
   "outputs": [],
   "source": [
    "semester4[\"faculty_assigned\"]=[\"a\",\"b\",\"c\",\"d\"]\n"
   ]
  },
  {
   "cell_type": "markdown",
   "metadata": {},
   "source": [
    "## showing the value of the dictonary after adding the new element"
   ]
  },
  {
   "cell_type": "code",
   "execution_count": 8,
   "metadata": {},
   "outputs": [
    {
     "name": "stdout",
     "output_type": "stream",
     "text": [
      "['abc', 'xyz', 'def']\n",
      "['test_tube', 'chemical', 'stirrer', 'water']\n",
      "[10, 10, 5, 50]\n",
      "['a', 'b', 'c', 'd']\n"
     ]
    }
   ],
   "source": [
    "for val in semester4.values(): \n",
    "        print(val)\n"
   ]
  },
  {
   "cell_type": "markdown",
   "metadata": {},
   "source": [
    "## sorting the value of the empirement_items and printing them as a new line using loop"
   ]
  },
  {
   "cell_type": "code",
   "execution_count": 9,
   "metadata": {},
   "outputs": [
    {
     "name": "stdout",
     "output_type": "stream",
     "text": [
      "chemical\n",
      "stirrer\n",
      "test_tube\n",
      "water\n"
     ]
    }
   ],
   "source": [
    "for i in sorted (semester4[\"expirement_items\"]) :  \n",
    "         print(i) \n"
   ]
  },
  {
   "cell_type": "markdown",
   "metadata": {},
   "source": [
    "## changing the value of num_of_items to 4"
   ]
  },
  {
   "cell_type": "code",
   "execution_count": 10,
   "metadata": {},
   "outputs": [],
   "source": [
    "for val in semester4.items():\n",
    "            semester4[\"num_of_items\"]={4,4,4,4}\n"
   ]
  },
  {
   "cell_type": "markdown",
   "metadata": {},
   "source": [
    "## printing the entire dictonary after performing all the operations\n",
    "            "
   ]
  },
  {
   "cell_type": "code",
   "execution_count": 11,
   "metadata": {},
   "outputs": [
    {
     "name": "stdout",
     "output_type": "stream",
     "text": [
      "dict_items([('student_name', ['abc', 'xyz', 'def']), ('expirement_items', ['test_tube', 'chemical', 'stirrer', 'water']), ('num_of_items', {4}), ('faculty_assigned', ['a', 'b', 'c', 'd'])])\n"
     ]
    }
   ],
   "source": [
    "print(semester4.items())\n"
   ]
  },
  {
   "cell_type": "markdown",
   "metadata": {},
   "source": [
    "## printing the value of the dictonary using silicing"
   ]
  },
  {
   "cell_type": "code",
   "execution_count": 12,
   "metadata": {},
   "outputs": [],
   "source": [
    "value = 3\n",
    "    \n",
    "slicing = dict(list(semester4.items())[0: value])  \n",
    "        "
   ]
  },
  {
   "cell_type": "markdown",
   "metadata": {},
   "source": [
    "## printing result"
   ]
  },
  {
   "cell_type": "code",
   "execution_count": 13,
   "metadata": {},
   "outputs": [
    {
     "name": "stdout",
     "output_type": "stream",
     "text": [
      "Dictionary by slilicing is  : {'student_name': ['abc', 'xyz', 'def'], 'expirement_items': ['test_tube', 'chemical', 'stirrer', 'water'], 'num_of_items': {4}}\n"
     ]
    }
   ],
   "source": [
    "print(\"Dictionary by slilicing is  : \" + str(slicing)) "
   ]
  },
  {
   "cell_type": "code",
   "execution_count": null,
   "metadata": {},
   "outputs": [],
   "source": []
  }
 ],
 "metadata": {
  "kernelspec": {
   "display_name": "Python 3",
   "language": "python",
   "name": "python3"
  },
  "language_info": {
   "codemirror_mode": {
    "name": "ipython",
    "version": 3
   },
   "file_extension": ".py",
   "mimetype": "text/x-python",
   "name": "python",
   "nbconvert_exporter": "python",
   "pygments_lexer": "ipython3",
   "version": "3.7.4"
  }
 },
 "nbformat": 4,
 "nbformat_minor": 2
}
