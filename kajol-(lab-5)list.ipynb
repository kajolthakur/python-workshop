{
 "cells": [
  {
   "cell_type": "markdown",
   "metadata": {},
   "source": [
    "## lab-5"
   ]
  },
  {
   "cell_type": "markdown",
   "metadata": {},
   "source": [
    "## list"
   ]
  },
  {
   "cell_type": "markdown",
   "metadata": {},
   "source": [
    "## ques-1"
   ]
  },
  {
   "cell_type": "code",
   "execution_count": 1,
   "metadata": {},
   "outputs": [],
   "source": [
    "total=0\n",
    "list1=[11,5,17,18,23]"
   ]
  },
  {
   "cell_type": "code",
   "execution_count": 2,
   "metadata": {},
   "outputs": [],
   "source": [
    "for ele in range(0,len(list1)):\n",
    "    total=total+list1[ele]"
   ]
  },
  {
   "cell_type": "code",
   "execution_count": 3,
   "metadata": {},
   "outputs": [
    {
     "name": "stdout",
     "output_type": "stream",
     "text": [
      "sum of all elements in given list: 74\n"
     ]
    }
   ],
   "source": [
    "print(\"sum of all elements in given list:\",total)"
   ]
  },
  {
   "cell_type": "markdown",
   "metadata": {},
   "source": [
    "## ques-2"
   ]
  },
  {
   "cell_type": "code",
   "execution_count": 3,
   "metadata": {},
   "outputs": [
    {
     "name": "stdout",
     "output_type": "stream",
     "text": [
      "[1, 2, 3, 4, 5, 6, 7, 8, 9]\n",
      "multiplication of all elements: 362880\n"
     ]
    }
   ],
   "source": [
    "my_list=[]\n",
    "for i in range(1,10):\n",
    "    my_list.append(i)\n",
    "print(my_list)\n",
    "result=1\n",
    "for item in my_list:\n",
    "    result=result*item\n",
    "print(\"multiplication of all elements:\",result)"
   ]
  },
  {
   "cell_type": "markdown",
   "metadata": {},
   "source": [
    "## ques-3"
   ]
  },
  {
   "cell_type": "code",
   "execution_count": 5,
   "metadata": {},
   "outputs": [
    {
     "name": "stdout",
     "output_type": "stream",
     "text": [
      "enter number of elements in list:7\n",
      "enter elements:1\n",
      "enter elements:0\n",
      "enter elements:4\n",
      "enter elements:7\n",
      "enter elements:9\n",
      "enter elements:3\n",
      "enter elements:6\n",
      "largest element is: 9\n"
     ]
    }
   ],
   "source": [
    "list1=[]\n",
    "num=int(input(\"enter number of elements in list:\"))\n",
    "for i in range(1,num+1):\n",
    "    ele=int(input(\"enter elements:\"))\n",
    "    list1.append(ele)\n",
    "print(\"largest element is:\",max(list1))"
   ]
  },
  {
   "cell_type": "markdown",
   "metadata": {},
   "source": [
    "## ques-4"
   ]
  },
  {
   "cell_type": "code",
   "execution_count": 6,
   "metadata": {},
   "outputs": [
    {
     "name": "stdout",
     "output_type": "stream",
     "text": [
      "enter number of elements in list:5\n",
      "enter elements:8\n",
      "enter elements:4\n",
      "enter elements:8\n",
      "enter elements:0\n",
      "enter elements:5\n",
      "smallest element is: 0\n"
     ]
    }
   ],
   "source": [
    "list1=[]\n",
    "num=int(input(\"enter number of elements in list:\"))\n",
    "for i in range(1,num+1):\n",
    "    ele=int(input(\"enter elements:\"))\n",
    "    list1.append(ele)\n",
    "print(\"smallest element is:\",min(list1))"
   ]
  },
  {
   "cell_type": "markdown",
   "metadata": {},
   "source": [
    "## ques-7"
   ]
  },
  {
   "cell_type": "code",
   "execution_count": 7,
   "metadata": {},
   "outputs": [
    {
     "name": "stdout",
     "output_type": "stream",
     "text": [
      "{40, 10, 50, 20, 60, 30}\n"
     ]
    }
   ],
   "source": [
    "a=[10,20,30,20,10,50,60,40,30,50,40]\n",
    "dup_items=set()\n",
    "uniq_items=[]\n",
    "for x in a:\n",
    "    if x not in dup_items:\n",
    "        uniq_items.append(x)\n",
    "        dup_items.add(x)\n",
    "print(dup_items)"
   ]
  },
  {
   "cell_type": "markdown",
   "metadata": {},
   "source": [
    "## ques-8"
   ]
  },
  {
   "cell_type": "code",
   "execution_count": 14,
   "metadata": {},
   "outputs": [
    {
     "name": "stdout",
     "output_type": "stream",
     "text": [
      "list is empty\n"
     ]
    }
   ],
   "source": [
    " a=[] \n",
    "if not a:\n",
    "    print (\"list is empty\")\n",
    "else:\n",
    "    print (\"list is not empty\")"
   ]
  },
  {
   "cell_type": "markdown",
   "metadata": {},
   "source": [
    "## ques-9"
   ]
  },
  {
   "cell_type": "code",
   "execution_count": 15,
   "metadata": {},
   "outputs": [
    {
     "name": "stdout",
     "output_type": "stream",
     "text": [
      "[10, 22, 44, 23, 4]\n",
      "[10, 22, 44, 23, 4]\n"
     ]
    }
   ],
   "source": [
    "original_list = [10, 22, 44, 23, 4]  \n",
    "new_list = list(original_list)  \n",
    "print(original_list)  \n",
    "print(new_list)  "
   ]
  },
  {
   "cell_type": "markdown",
   "metadata": {},
   "source": [
    "## ques-10"
   ]
  },
  {
   "cell_type": "code",
   "execution_count": null,
   "metadata": {},
   "outputs": [],
   "source": []
  },
  {
   "cell_type": "markdown",
   "metadata": {},
   "source": [
    "## ques-11"
   ]
  },
  {
   "cell_type": "code",
   "execution_count": null,
   "metadata": {},
   "outputs": [],
   "source": []
  }
 ],
 "metadata": {
  "kernelspec": {
   "display_name": "Python 3",
   "language": "python",
   "name": "python3"
  },
  "language_info": {
   "codemirror_mode": {
    "name": "ipython",
    "version": 3
   },
   "file_extension": ".py",
   "mimetype": "text/x-python",
   "name": "python",
   "nbconvert_exporter": "python",
   "pygments_lexer": "ipython3",
   "version": "3.7.4"
  }
 },
 "nbformat": 4,
 "nbformat_minor": 2
}
