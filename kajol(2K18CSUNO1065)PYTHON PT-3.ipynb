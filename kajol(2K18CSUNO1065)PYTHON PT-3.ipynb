{
 "cells": [
  {
   "cell_type": "markdown",
   "metadata": {},
   "source": [
    "## kajol thakur\n",
    "## 2K18CSUN01065\n",
    "## PYTHON PT-3"
   ]
  },
  {
   "cell_type": "markdown",
   "metadata": {},
   "source": [
    "## Theoretical Questions: "
   ]
  },
  {
   "cell_type": "code",
   "execution_count": 11,
   "metadata": {},
   "outputs": [
    {
     "name": "stdout",
     "output_type": "stream",
     "text": [
      "John\n"
     ]
    }
   ],
   "source": [
    "##Q1. What is the syntax to call a constructor of a base class from child class?\n",
    "# Ans= we can call using super() Command \n",
    "# for ex:super().init()\n",
    "##Q2.How is a class made as inherited class (syntax of child class)?\n",
    "## Ans-class child(parent)\n",
    "     #class DerivedClassName(BaseClassName):\n",
    "    #pass\n",
    "##Q3.Print an element of a nested dictionary \n",
    "## person = {1: {'name': 'kajol', 'age': '20', 'sex': 'Female'},\n",
    "         ## 2: {'name': 'kashish', 'age': '16', 'sex': 'Female'}}\n",
    "\n",
    "## print(people[1]['name'])\n"
   ]
  },
  {
   "cell_type": "markdown",
   "metadata": {},
   "source": [
    "## Programming Questions-"
   ]
  },
  {
   "cell_type": "markdown",
   "metadata": {},
   "source": [
    "## Set C\n",
    "## 1. Write a program that calculates and prints the value according to the formula given below. Take three values from user. Q= square root (( 2*value1*value2)/value3) "
   ]
  },
  {
   "cell_type": "code",
   "execution_count": 3,
   "metadata": {},
   "outputs": [
    {
     "name": "stdout",
     "output_type": "stream",
     "text": [
      "Enter value 1:2\n",
      "Enter Value 2:43\n",
      "Enter value 3:1\n",
      "Answer is: 13.114877048604\n"
     ]
    }
   ],
   "source": [
    "val1= int(input(\"Enter value 1:\"))\n",
    "val2= int(input(\"Enter Value 2:\"))\n",
    "val3= int(input(\"Enter value 3:\"))\n",
    "\n",
    "Q=(((2*val1*val2))/val3)**(1/2)\n",
    "\n",
    "print(\"Answer is:\",Q)"
   ]
  },
  {
   "cell_type": "markdown",
   "metadata": {},
   "source": [
    "## 2. Please write a program which accepts a string from console and print the characters that have even indexes. "
   ]
  },
  {
   "cell_type": "code",
   "execution_count": 9,
   "metadata": {},
   "outputs": [
    {
     "name": "stdout",
     "output_type": "stream",
     "text": [
      "Enter a stringkajol\n",
      "['k', 'j', 'l']\n"
     ]
    }
   ],
   "source": [
    "st=input('Enter a string')\n",
    "lst=[]\n",
    "for i in range(len(st)):\n",
    "    if(i%2==0):\n",
    "        lst.append(st[i])\n",
    "    else:\n",
    "        continue\n",
    "print(lst)"
   ]
  },
  {
   "cell_type": "code",
   "execution_count": null,
   "metadata": {},
   "outputs": [],
   "source": []
  }
 ],
 "metadata": {
  "kernelspec": {
   "display_name": "Python 3",
   "language": "python",
   "name": "python3"
  },
  "language_info": {
   "codemirror_mode": {
    "name": "ipython",
    "version": 3
   },
   "file_extension": ".py",
   "mimetype": "text/x-python",
   "name": "python",
   "nbconvert_exporter": "python",
   "pygments_lexer": "ipython3",
   "version": "3.7.4"
  }
 },
 "nbformat": 4,
 "nbformat_minor": 2
}
