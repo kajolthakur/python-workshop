{
 "cells": [
  {
   "cell_type": "code",
   "execution_count": 2,
   "metadata": {},
   "outputs": [
    {
     "name": "stdout",
     "output_type": "stream",
     "text": [
      "enter the number:56\n",
      "56 is even\n"
     ]
    }
   ],
   "source": [
    "num1=int(input(\"enter the number:\"))\n",
    "if num1%2==0:\n",
    "    print(num1,\"is even\")\n",
    "else :\n",
    "    print(num1 , \"is odd\")"
   ]
  },
  {
   "cell_type": "code",
   "execution_count": 3,
   "metadata": {},
   "outputs": [
    {
     "name": "stdout",
     "output_type": "stream",
     "text": [
      "enter the number:2020\n",
      "2020 is leap year\n"
     ]
    }
   ],
   "source": [
    "num1=int(input(\"enter the number:\"))\n",
    "if num1%4==0:\n",
    "    print(num1,\"is leap year\")\n",
    "else :\n",
    "    print(num1 , \"is not a leap year\")\n",
    "    "
   ]
  },
  {
   "cell_type": "markdown",
   "metadata": {},
   "source": []
  },
  {
   "cell_type": "code",
   "execution_count": 4,
   "metadata": {},
   "outputs": [
    {
     "name": "stdout",
     "output_type": "stream",
     "text": [
      "enter the letter:g\n",
      "g consonants\n"
     ]
    }
   ],
   "source": [
    "num1=input(\"enter the letter:\")\n",
    "list=\"aeiou\"\n",
    "if num1.lower() in list :\n",
    "    print(num1 , \"is a vowel\")\n",
    "else :\n",
    "    print(num1 , \"consonants\")"
   ]
  },
  {
   "cell_type": "code",
   "execution_count": 5,
   "metadata": {},
   "outputs": [
    {
     "name": "stdout",
     "output_type": "stream",
     "text": [
      "enter the first number :5\n",
      "enter the second number :89\n",
      "89 is greater\n"
     ]
    }
   ],
   "source": [
    "num1=int(input(\"enter the first number :\"))\n",
    "num2=int(input(\"enter the second number :\"))\n",
    "if num1>num2:\n",
    "    print(num1,\"is greater\")\n",
    "else:\n",
    "    print(num2,\"is greater\")"
   ]
  },
  {
   "cell_type": "code",
   "execution_count": 11,
   "metadata": {},
   "outputs": [
    {
     "name": "stdout",
     "output_type": "stream",
     "text": [
      "enter the number5\n",
      "the factorial of given no is 1\n",
      "the factorial of given no is 2\n",
      "the factorial of given no is 6\n",
      "the factorial of given no is 24\n",
      "the factorial of given no is 120\n"
     ]
    }
   ],
   "source": [
    "num=int(input(\"enter the number\"))\n",
    "factorial=1\n",
    "if num==1:\n",
    "    print(\"the factorial of 1 is 1\")\n",
    "elif num==0:\n",
    "    print(\"can't calculate 0 factorial\")\n",
    "else:\n",
    "    for i in range(1,num+1):\n",
    "        factorial=factorial*i\n",
    "        print(\"the factorial of given no is\",factorial)"
   ]
  },
  {
   "cell_type": "code",
   "execution_count": 13,
   "metadata": {},
   "outputs": [
    {
     "name": "stdout",
     "output_type": "stream",
     "text": [
      "enter the nth value:6\n",
      "fibonacci series :011235"
     ]
    }
   ],
   "source": [
    "n=int(input(\"enter the nth value:\"))\n",
    "a=0\n",
    "b=1\n",
    "sum=0\n",
    "print(\"fibonacci series :\", end =\"\")\n",
    "while(sum <=n):\n",
    "    print(sum,end = \"\")\n",
    "    a=b\n",
    "    b=sum\n",
    "    sum=a+b"
   ]
  },
  {
   "cell_type": "code",
   "execution_count": 15,
   "metadata": {},
   "outputs": [
    {
     "name": "stdout",
     "output_type": "stream",
     "text": [
      "enter the number4\n",
      "4 not a prime number\n"
     ]
    }
   ],
   "source": [
    "num=int(input(\"enter the number\"))\n",
    "if num>1:\n",
    "    for i in range(2,num):\n",
    "        if(num%1)==0:\n",
    "            print(num,\"not a prime number\")\n",
    "            break\n",
    "        else:\n",
    "            print(\"it is a prime number\")\n",
    "else:\n",
    "    print(num,\"is not a prime no \")"
   ]
  },
  {
   "cell_type": "code",
   "execution_count": 18,
   "metadata": {},
   "outputs": [
    {
     "name": "stdout",
     "output_type": "stream",
     "text": [
      "press 3 to divide\n",
      "press 4 to multiply\n",
      "enter the choice2\n",
      "enter the first number5\n",
      "enter the second number9\n",
      "-4\n"
     ]
    }
   ],
   "source": [
    "print(\"press 3 to divide\")\n",
    "print(\"press 4 to multiply\")\n",
    "num=int(input(\"enter the choice\"))\n",
    "num1=int(input(\"enter the first number\"))\n",
    "num2=int(input(\"enter the second number\"))\n",
    "if num==1:\n",
    "    a=num1+num2\n",
    "    print(a)\n",
    "elif num==2:\n",
    "    b=num1-num2\n",
    "    print(b)\n",
    "elif num==3:\n",
    "    c=num1/num2\n",
    "    print(c)\n",
    "elif num==4:\n",
    "    d=num1*num2\n",
    "    print(d)\n",
    "else :\n",
    "    print(\"choose the option between 1-4\")"
   ]
  },
  {
   "cell_type": "code",
   "execution_count": null,
   "metadata": {},
   "outputs": [],
   "source": []
  }
 ],
 "metadata": {
  "kernelspec": {
   "display_name": "Python 3",
   "language": "python",
   "name": "python3"
  },
  "language_info": {
   "codemirror_mode": {
    "name": "ipython",
    "version": 3
   },
   "file_extension": ".py",
   "mimetype": "text/x-python",
   "name": "python",
   "nbconvert_exporter": "python",
   "pygments_lexer": "ipython3",
   "version": "3.7.4"
  }
 },
 "nbformat": 4,
 "nbformat_minor": 2
}
